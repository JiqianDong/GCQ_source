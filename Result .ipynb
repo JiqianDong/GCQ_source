{
 "cells": [
  {
   "cell_type": "code",
   "execution_count": 1,
   "metadata": {},
   "outputs": [],
   "source": [
    "import numpy as np\n",
    "import json\n",
    "import matplotlib.pyplot as plt\n",
    "import glob\n",
    "import re\n",
    "import pandas as pd\n",
    "import seaborn as sns"
   ]
  },
  {
   "cell_type": "code",
   "execution_count": 2,
   "metadata": {},
   "outputs": [
    {
     "data": {
      "text/plain": [
       "['./logs/test/gcn_cav_20_hv_30_testing_hist.txt',\n",
       " './logs/test/gcn_cav_20_hv_20_testing_hist.txt',\n",
       " './logs/test/gcn_cav_20_hv_40_testing_hist.txt',\n",
       " './logs/test/gcn_cav_20_hv_10_testing_hist.txt',\n",
       " './logs/test/gcn_cav_20_hv_50_testing_hist.txt',\n",
       " './logs/test/lstm_cav_20_hv_20_testing_hist.txt',\n",
       " './logs/test/lstm_cav_20_hv_30_testing_hist.txt',\n",
       " './logs/test/lstm_cav_20_hv_50_testing_hist.txt',\n",
       " './logs/test/lstm_cav_20_hv_40_testing_hist.txt',\n",
       " './logs/test/lstm_cav_20_hv_10_testing_hist.txt']"
      ]
     },
     "execution_count": 2,
     "metadata": {},
     "output_type": "execute_result"
    }
   ],
   "source": [
    "files = glob.glob('./logs/test/*.txt')\n",
    "files"
   ]
  },
  {
   "cell_type": "code",
   "execution_count": 3,
   "metadata": {},
   "outputs": [],
   "source": [
    "files.sort()"
   ]
  },
  {
   "cell_type": "code",
   "execution_count": 4,
   "metadata": {},
   "outputs": [
    {
     "data": {
      "text/plain": [
       "['./logs/test/gcn_cav_20_hv_10_testing_hist.txt',\n",
       " './logs/test/gcn_cav_20_hv_20_testing_hist.txt',\n",
       " './logs/test/gcn_cav_20_hv_30_testing_hist.txt',\n",
       " './logs/test/gcn_cav_20_hv_40_testing_hist.txt',\n",
       " './logs/test/gcn_cav_20_hv_50_testing_hist.txt',\n",
       " './logs/test/lstm_cav_20_hv_10_testing_hist.txt',\n",
       " './logs/test/lstm_cav_20_hv_20_testing_hist.txt',\n",
       " './logs/test/lstm_cav_20_hv_30_testing_hist.txt',\n",
       " './logs/test/lstm_cav_20_hv_40_testing_hist.txt',\n",
       " './logs/test/lstm_cav_20_hv_50_testing_hist.txt']"
      ]
     },
     "execution_count": 4,
     "metadata": {},
     "output_type": "execute_result"
    }
   ],
   "source": [
    "files"
   ]
  },
  {
   "cell_type": "code",
   "execution_count": 5,
   "metadata": {},
   "outputs": [],
   "source": [
    "file_name = files[0]"
   ]
  },
  {
   "cell_type": "code",
   "execution_count": 6,
   "metadata": {},
   "outputs": [],
   "source": [
    "stat_df = pd.DataFrame(columns=['model_name','num_hv','mean','median','std'])\n",
    "\n",
    "for file_name in files:\n",
    "    with open(file_name,'r') as f:\n",
    "        model_name = file_name.split('/')[-1].split('_')[0]\n",
    "        number = file_name.split('/')[-1].split('_')[4]\n",
    "        data = json.load(f)\n",
    "        raw = np.array(data['episode_reward'])\n",
    "        mean = raw.mean()\n",
    "        median = np.median(raw)\n",
    "        std = raw.std()\n",
    "        stat_df = stat_df.append({\"model_name\": model_name,\\\n",
    "                                  \"num_hv\": number,\\\n",
    "                                  \"mean\":mean,\\\n",
    "                                  \"median\":median,\\\n",
    "                                  \"std\":std,\\\n",
    "                                  }, ignore_index=True)\n",
    "\n"
   ]
  },
  {
   "cell_type": "code",
   "execution_count": 7,
   "metadata": {},
   "outputs": [
    {
     "data": {
      "text/html": [
       "<div>\n",
       "<style scoped>\n",
       "    .dataframe tbody tr th:only-of-type {\n",
       "        vertical-align: middle;\n",
       "    }\n",
       "\n",
       "    .dataframe tbody tr th {\n",
       "        vertical-align: top;\n",
       "    }\n",
       "\n",
       "    .dataframe thead th {\n",
       "        text-align: right;\n",
       "    }\n",
       "</style>\n",
       "<table border=\"1\" class=\"dataframe\">\n",
       "  <thead>\n",
       "    <tr style=\"text-align: right;\">\n",
       "      <th></th>\n",
       "      <th>model_name</th>\n",
       "      <th>num_hv</th>\n",
       "      <th>mean</th>\n",
       "      <th>median</th>\n",
       "      <th>std</th>\n",
       "    </tr>\n",
       "  </thead>\n",
       "  <tbody>\n",
       "    <tr>\n",
       "      <th>0</th>\n",
       "      <td>gcn</td>\n",
       "      <td>10</td>\n",
       "      <td>3968.131248</td>\n",
       "      <td>3882.887591</td>\n",
       "      <td>735.977081</td>\n",
       "    </tr>\n",
       "    <tr>\n",
       "      <th>1</th>\n",
       "      <td>gcn</td>\n",
       "      <td>20</td>\n",
       "      <td>3989.528074</td>\n",
       "      <td>4133.128959</td>\n",
       "      <td>949.431067</td>\n",
       "    </tr>\n",
       "    <tr>\n",
       "      <th>2</th>\n",
       "      <td>gcn</td>\n",
       "      <td>30</td>\n",
       "      <td>4452.077089</td>\n",
       "      <td>5025.610108</td>\n",
       "      <td>1356.070971</td>\n",
       "    </tr>\n",
       "    <tr>\n",
       "      <th>3</th>\n",
       "      <td>gcn</td>\n",
       "      <td>40</td>\n",
       "      <td>5111.421622</td>\n",
       "      <td>4988.621965</td>\n",
       "      <td>664.178256</td>\n",
       "    </tr>\n",
       "    <tr>\n",
       "      <th>4</th>\n",
       "      <td>gcn</td>\n",
       "      <td>50</td>\n",
       "      <td>3499.723799</td>\n",
       "      <td>4375.058468</td>\n",
       "      <td>3555.892229</td>\n",
       "    </tr>\n",
       "    <tr>\n",
       "      <th>5</th>\n",
       "      <td>lstm</td>\n",
       "      <td>10</td>\n",
       "      <td>3906.912935</td>\n",
       "      <td>3971.627852</td>\n",
       "      <td>850.374725</td>\n",
       "    </tr>\n",
       "    <tr>\n",
       "      <th>6</th>\n",
       "      <td>lstm</td>\n",
       "      <td>20</td>\n",
       "      <td>4368.726448</td>\n",
       "      <td>4413.416127</td>\n",
       "      <td>906.385564</td>\n",
       "    </tr>\n",
       "    <tr>\n",
       "      <th>7</th>\n",
       "      <td>lstm</td>\n",
       "      <td>30</td>\n",
       "      <td>4243.281442</td>\n",
       "      <td>4440.332177</td>\n",
       "      <td>992.358841</td>\n",
       "    </tr>\n",
       "    <tr>\n",
       "      <th>8</th>\n",
       "      <td>lstm</td>\n",
       "      <td>40</td>\n",
       "      <td>3962.874541</td>\n",
       "      <td>4598.059096</td>\n",
       "      <td>1448.110813</td>\n",
       "    </tr>\n",
       "    <tr>\n",
       "      <th>9</th>\n",
       "      <td>lstm</td>\n",
       "      <td>50</td>\n",
       "      <td>4775.828156</td>\n",
       "      <td>4841.505841</td>\n",
       "      <td>964.357779</td>\n",
       "    </tr>\n",
       "  </tbody>\n",
       "</table>\n",
       "</div>"
      ],
      "text/plain": [
       "  model_name num_hv         mean       median          std\n",
       "0        gcn     10  3968.131248  3882.887591   735.977081\n",
       "1        gcn     20  3989.528074  4133.128959   949.431067\n",
       "2        gcn     30  4452.077089  5025.610108  1356.070971\n",
       "3        gcn     40  5111.421622  4988.621965   664.178256\n",
       "4        gcn     50  3499.723799  4375.058468  3555.892229\n",
       "5       lstm     10  3906.912935  3971.627852   850.374725\n",
       "6       lstm     20  4368.726448  4413.416127   906.385564\n",
       "7       lstm     30  4243.281442  4440.332177   992.358841\n",
       "8       lstm     40  3962.874541  4598.059096  1448.110813\n",
       "9       lstm     50  4775.828156  4841.505841   964.357779"
      ]
     },
     "execution_count": 7,
     "metadata": {},
     "output_type": "execute_result"
    }
   ],
   "source": [
    "stat_df"
   ]
  },
  {
   "cell_type": "code",
   "execution_count": 10,
   "metadata": {},
   "outputs": [
    {
     "data": {
      "text/plain": [
       "<matplotlib.axes._subplots.AxesSubplot at 0x7fca44d63630>"
      ]
     },
     "execution_count": 10,
     "metadata": {},
     "output_type": "execute_result"
    },
    {
     "data": {
      "image/png": "[encoded data removed]",
      "text/plain": [
       "<Figure size 432x288 with 1 Axes>"
      ]
     },
     "metadata": {
      "needs_background": "light"
     },
     "output_type": "display_data"
    }
   ],
   "source": [
    "sns.lineplot(x='num_hv',y='mean',hue='model_name',data=stat_df)"
   ]
  },
  {
   "cell_type": "code",
   "execution_count": 11,
   "metadata": {},
   "outputs": [
    {
     "data": {
      "text/plain": [
       "<matplotlib.axes._subplots.AxesSubplot at 0x7fca44df0748>"
      ]
     },
     "execution_count": 11,
     "metadata": {},
     "output_type": "execute_result"
    },
    {
     "data": {
      "image/png": "[encoded data removed]",
      "text/plain": [
       "<Figure size 432x288 with 1 Axes>"
      ]
     },
     "metadata": {
      "needs_background": "light"
     },
     "output_type": "display_data"
    }
   ],
   "source": [
    "sns.lineplot(x='num_hv',y='median',hue='model_name',data=stat_df)"
   ]
  },
  {
   "cell_type": "code",
   "execution_count": null,
   "metadata": {},
   "outputs": [],
   "source": []
  }
 ],
 "metadata": {
  "kernelspec": {
   "display_name": "Python 3",
   "language": "python",
   "name": "python3"
  },
  "language_info": {
   "codemirror_mode": {
    "name": "ipython",
    "version": 3
   },
   "file_extension": ".py",
   "mimetype": "text/x-python",
   "name": "python",
   "nbconvert_exporter": "python",
   "pygments_lexer": "ipython3",
   "version": "3.6.10"
  }
 },
 "nbformat": 4,
 "nbformat_minor": 2
}

{
 "cells": [
  {
   "cell_type": "code",
   "execution_count": 1,
   "metadata": {},
   "outputs": [],
   "source": [
    "import numpy as np\n",
    "import json\n",
    "import matplotlib.pyplot as plt\n",
    "import glob\n",
    "import re\n",
    "import pandas as pd\n",
    "import seaborn as sns"
   ]
  },
  {
   "cell_type": "code",
   "execution_count": 2,
   "metadata": {},
   "outputs": [
    {
     "data": {
      "text/plain": [
       "['./logs/test/rule_based_cav_20_hv_10_testing_hist.txt',\n",
       " './logs/test/gcn_cav_20_hv_30_testing_hist.txt',\n",
       " './logs/test/gcn_cav_20_hv_20_testing_hist.txt',\n",
       " './logs/test/rule_based_cav_20_hv_30_testing_hist.txt',\n",
       " './logs/test/gcn_cav_20_hv_40_testing_hist.txt',\n",
       " './logs/test/gcn_cav_20_hv_10_testing_hist.txt',\n",
       " './logs/test/rule_based_cav_20_hv_20_testing_hist.txt',\n",
       " './logs/test/gcn_cav_20_hv_50_testing_hist.txt',\n",
       " './logs/test/lstm_cav_20_hv_20_testing_hist.txt',\n",
       " './logs/test/lstm_cav_20_hv_30_testing_hist.txt',\n",
       " './logs/test/lstm_cav_20_hv_50_testing_hist.txt',\n",
       " './logs/test/lstm_cav_20_hv_40_testing_hist.txt',\n",
       " './logs/test/lstm_cav_20_hv_10_testing_hist.txt']"
      ]
     },
     "execution_count": 2,
     "metadata": {},
     "output_type": "execute_result"
    }
   ],
   "source": [
    "files = glob.glob('./logs/test/*.txt')\n",
    "files"
   ]
  },
  {
   "cell_type": "code",
   "execution_count": 3,
   "metadata": {},
   "outputs": [],
   "source": [
    "files.sort()"
   ]
  },
  {
   "cell_type": "code",
   "execution_count": 4,
   "metadata": {},
   "outputs": [
    {
     "data": {
      "text/plain": [
       "['./logs/test/gcn_cav_20_hv_10_testing_hist.txt',\n",
       " './logs/test/gcn_cav_20_hv_20_testing_hist.txt',\n",
       " './logs/test/gcn_cav_20_hv_30_testing_hist.txt',\n",
       " './logs/test/gcn_cav_20_hv_40_testing_hist.txt',\n",
       " './logs/test/gcn_cav_20_hv_50_testing_hist.txt',\n",
       " './logs/test/lstm_cav_20_hv_10_testing_hist.txt',\n",
       " './logs/test/lstm_cav_20_hv_20_testing_hist.txt',\n",
       " './logs/test/lstm_cav_20_hv_30_testing_hist.txt',\n",
       " './logs/test/lstm_cav_20_hv_40_testing_hist.txt',\n",
       " './logs/test/lstm_cav_20_hv_50_testing_hist.txt',\n",
       " './logs/test/rule_based_cav_20_hv_10_testing_hist.txt',\n",
       " './logs/test/rule_based_cav_20_hv_20_testing_hist.txt',\n",
       " './logs/test/rule_based_cav_20_hv_30_testing_hist.txt']"
      ]
     },
     "execution_count": 4,
     "metadata": {},
     "output_type": "execute_result"
    }
   ],
   "source": [
    "files"
   ]
  },
  {
   "cell_type": "code",
   "execution_count": 5,
   "metadata": {},
   "outputs": [],
   "source": [
    "file_name = files[0]"
   ]
  },
  {
   "cell_type": "code",
   "execution_count": 9,
   "metadata": {},
   "outputs": [
    {
     "data": {
      "text/html": [
       "<div>\n",
       "<style scoped>\n",
       "    .dataframe tbody tr th:only-of-type {\n",
       "        vertical-align: middle;\n",
       "    }\n",
       "\n",
       "    .dataframe tbody tr th {\n",
       "        vertical-align: top;\n",
       "    }\n",
       "\n",
       "    .dataframe thead th {\n",
       "        text-align: right;\n",
       "    }\n",
       "</style>\n",
       "<table border=\"1\" class=\"dataframe\">\n",
       "  <thead>\n",
       "    <tr style=\"text-align: right;\">\n",
       "      <th></th>\n",
       "      <th>model_name</th>\n",
       "      <th>num_hv</th>\n",
       "      <th>mean</th>\n",
       "      <th>median</th>\n",
       "      <th>std</th>\n",
       "    </tr>\n",
       "  </thead>\n",
       "  <tbody>\n",
       "    <tr>\n",
       "      <th>0</th>\n",
       "      <td>gcn</td>\n",
       "      <td>10</td>\n",
       "      <td>4545.664287</td>\n",
       "      <td>4724.131684</td>\n",
       "      <td>572.423887</td>\n",
       "    </tr>\n",
       "    <tr>\n",
       "      <th>1</th>\n",
       "      <td>gcn</td>\n",
       "      <td>20</td>\n",
       "      <td>3731.160410</td>\n",
       "      <td>3912.142875</td>\n",
       "      <td>949.587188</td>\n",
       "    </tr>\n",
       "    <tr>\n",
       "      <th>2</th>\n",
       "      <td>gcn</td>\n",
       "      <td>30</td>\n",
       "      <td>4478.242408</td>\n",
       "      <td>4441.316511</td>\n",
       "      <td>618.986709</td>\n",
       "    </tr>\n",
       "    <tr>\n",
       "      <th>3</th>\n",
       "      <td>gcn</td>\n",
       "      <td>40</td>\n",
       "      <td>4859.079412</td>\n",
       "      <td>4869.470547</td>\n",
       "      <td>551.259884</td>\n",
       "    </tr>\n",
       "    <tr>\n",
       "      <th>4</th>\n",
       "      <td>gcn</td>\n",
       "      <td>50</td>\n",
       "      <td>5004.885557</td>\n",
       "      <td>5157.856037</td>\n",
       "      <td>849.662806</td>\n",
       "    </tr>\n",
       "    <tr>\n",
       "      <th>5</th>\n",
       "      <td>lstm</td>\n",
       "      <td>10</td>\n",
       "      <td>4284.345542</td>\n",
       "      <td>4453.604013</td>\n",
       "      <td>1048.771309</td>\n",
       "    </tr>\n",
       "    <tr>\n",
       "      <th>6</th>\n",
       "      <td>lstm</td>\n",
       "      <td>20</td>\n",
       "      <td>4229.977584</td>\n",
       "      <td>4329.962960</td>\n",
       "      <td>872.614400</td>\n",
       "    </tr>\n",
       "    <tr>\n",
       "      <th>7</th>\n",
       "      <td>lstm</td>\n",
       "      <td>30</td>\n",
       "      <td>4578.891568</td>\n",
       "      <td>4433.304214</td>\n",
       "      <td>806.127744</td>\n",
       "    </tr>\n",
       "    <tr>\n",
       "      <th>8</th>\n",
       "      <td>lstm</td>\n",
       "      <td>40</td>\n",
       "      <td>5113.975908</td>\n",
       "      <td>5164.453508</td>\n",
       "      <td>383.665971</td>\n",
       "    </tr>\n",
       "    <tr>\n",
       "      <th>9</th>\n",
       "      <td>lstm</td>\n",
       "      <td>50</td>\n",
       "      <td>4663.561724</td>\n",
       "      <td>4382.157834</td>\n",
       "      <td>943.409560</td>\n",
       "    </tr>\n",
       "    <tr>\n",
       "      <th>10</th>\n",
       "      <td>rule</td>\n",
       "      <td>10</td>\n",
       "      <td>-10040.145486</td>\n",
       "      <td>-9327.269619</td>\n",
       "      <td>5788.201193</td>\n",
       "    </tr>\n",
       "    <tr>\n",
       "      <th>11</th>\n",
       "      <td>rule</td>\n",
       "      <td>20</td>\n",
       "      <td>-6953.078612</td>\n",
       "      <td>-6281.482498</td>\n",
       "      <td>4026.386478</td>\n",
       "    </tr>\n",
       "    <tr>\n",
       "      <th>12</th>\n",
       "      <td>rule</td>\n",
       "      <td>30</td>\n",
       "      <td>-6762.592837</td>\n",
       "      <td>-6227.013809</td>\n",
       "      <td>3678.882364</td>\n",
       "    </tr>\n",
       "  </tbody>\n",
       "</table>\n",
       "</div>"
      ],
      "text/plain": [
       "   model_name num_hv          mean       median          std\n",
       "0         gcn     10   4545.664287  4724.131684   572.423887\n",
       "1         gcn     20   3731.160410  3912.142875   949.587188\n",
       "2         gcn     30   4478.242408  4441.316511   618.986709\n",
       "3         gcn     40   4859.079412  4869.470547   551.259884\n",
       "4         gcn     50   5004.885557  5157.856037   849.662806\n",
       "5        lstm     10   4284.345542  4453.604013  1048.771309\n",
       "6        lstm     20   4229.977584  4329.962960   872.614400\n",
       "7        lstm     30   4578.891568  4433.304214   806.127744\n",
       "8        lstm     40   5113.975908  5164.453508   383.665971\n",
       "9        lstm     50   4663.561724  4382.157834   943.409560\n",
       "10       rule     10 -10040.145486 -9327.269619  5788.201193\n",
       "11       rule     20  -6953.078612 -6281.482498  4026.386478\n",
       "12       rule     30  -6762.592837 -6227.013809  3678.882364"
      ]
     },
     "execution_count": 9,
     "metadata": {},
     "output_type": "execute_result"
    }
   ],
   "source": [
    "stat_df = pd.DataFrame(columns=['model_name','num_hv','mean','median','std'])\n",
    "\n",
    "for file_name in files:\n",
    "    with open(file_name,'r') as f:\n",
    "        model_name = file_name.split('/')[-1].split('_')[0]\n",
    "        if model_name == \"rule\":\n",
    "            number = file_name.split('/')[-1].split('_')[5]\n",
    "        \n",
    "        else:\n",
    "            number = file_name.split('/')[-1].split('_')[4]\n",
    "        data = json.load(f)\n",
    "        raw = np.array(data['episode_reward'])\n",
    "        mean = raw.mean()\n",
    "        median = np.median(raw)\n",
    "        std = raw.std()\n",
    "        stat_df = stat_df.append({\"model_name\": model_name,\\\n",
    "                                  \"num_hv\": number,\\\n",
    "                                  \"mean\":mean,\\\n",
    "                                  \"median\":median,\\\n",
    "                                  \"std\":std,\\\n",
    "                                  }, ignore_index=True)\n",
    "\n",
    "stat_df"
   ]
  },
  {
   "cell_type": "code",
   "execution_count": 8,
   "metadata": {},
   "outputs": [
    {
     "data": {
      "text/plain": [
       "<matplotlib.axes._subplots.AxesSubplot at 0x7ff09f2635f8>"
      ]
     },
     "execution_count": 8,
     "metadata": {},
     "output_type": "execute_result"
    },
    {
     "data": {
      "image/png": "[encoded data removed]",
      "text/plain": [
       "<Figure size 432x288 with 1 Axes>"
      ]
     },
     "metadata": {
      "needs_background": "light"
     },
     "output_type": "display_data"
    }
   ],
   "source": [
    "sns.lineplot(x='num_hv',y='mean',hue='model_name',data=stat_df)"
   ]
  },
  {
   "cell_type": "code",
   "execution_count": 9,
   "metadata": {},
   "outputs": [
    {
     "data": {
      "text/plain": [
       "<matplotlib.axes._subplots.AxesSubplot at 0x7ff09f37a978>"
      ]
     },
     "execution_count": 9,
     "metadata": {},
     "output_type": "execute_result"
    },
    {
     "data": {
      "image/png": "[encoded data removed]",
      "text/plain": [
       "<Figure size 432x288 with 1 Axes>"
      ]
     },
     "metadata": {
      "needs_background": "light"
     },
     "output_type": "display_data"
    }
   ],
   "source": [
    "sns.lineplot(x='num_hv',y='median',hue='model_name',data=stat_df)"
   ]
  },
  {
   "cell_type": "code",
   "execution_count": null,
   "metadata": {},
   "outputs": [],
   "source": []
  },
  {
   "cell_type": "code",
   "execution_count": null,
   "metadata": {},
   "outputs": [],
   "source": []
  }
 ],
 "metadata": {
  "kernelspec": {
   "display_name": "Python 3",
   "language": "python",
   "name": "python3"
  },
  "language_info": {
   "codemirror_mode": {
    "name": "ipython",
    "version": 3
   },
   "file_extension": ".py",
   "mimetype": "text/x-python",
   "name": "python",
   "nbconvert_exporter": "python",
   "pygments_lexer": "ipython3",
   "version": "3.6.10"
  }
 },
 "nbformat": 4,
 "nbformat_minor": 2
}

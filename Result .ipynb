{
 "cells": [
  {
   "cell_type": "code",
   "execution_count": 2,
   "metadata": {},
   "outputs": [],
   "source": [
    "import numpy as np\n",
    "import json\n",
    "import matplotlib.pyplot as plt\n",
    "import glob\n",
    "import re\n",
    "import pandas as pd\n",
    "# import seaborn as sns"
   ]
  },
  {
   "cell_type": "code",
   "execution_count": 6,
   "metadata": {},
   "outputs": [
    {
     "data": {
      "text/plain": [
       "['./logs/test/gcn_cav_20_hv_20_testing_hist.txt',\n",
       " './logs/test/rule_based_cav_20_hv_40_testing_hist2.txt',\n",
       " './logs/test/lstm_cav_20_hv_20_testing_hist.txt',\n",
       " './logs/test/rule_based_cav_20_hv_10_testing_hist2.txt',\n",
       " './logs/test/gcn_cav_20_hv_30_testing_hist.txt',\n",
       " './logs/test/lstm_cav_20_hv_50_testing_hist.txt',\n",
       " './logs/test/lstm_cav_20_hv_10_testing_hist.txt',\n",
       " './logs/test/lstm_cav_20_hv_40_testing_hist.txt',\n",
       " './logs/test/gcn_cav_20_hv_10_testing_hist.txt',\n",
       " './logs/test/rule_based_cav_20_hv_30_testing_hist2.txt',\n",
       " './logs/test/gcn_cav_20_hv_50_testing_hist.txt',\n",
       " './logs/test/rule_based_cav_20_hv_50_testing_hist2.txt',\n",
       " './logs/test/gcn_cav_20_hv_40_testing_hist.txt',\n",
       " './logs/test/lstm_cav_20_hv_30_testing_hist.txt',\n",
       " './logs/test/rule_based_cav_20_hv_20_testing_hist2.txt']"
      ]
     },
     "execution_count": 6,
     "metadata": {},
     "output_type": "execute_result"
    }
   ],
   "source": [
    "files = glob.glob('./logs/test/*.txt')\n",
    "files"
   ]
  },
  {
   "cell_type": "code",
   "execution_count": 7,
   "metadata": {},
   "outputs": [],
   "source": [
    "files.sort()"
   ]
  },
  {
   "cell_type": "code",
   "execution_count": 8,
   "metadata": {},
   "outputs": [
    {
     "data": {
      "text/plain": [
       "['./logs/test/gcn_cav_20_hv_10_testing_hist.txt',\n",
       " './logs/test/gcn_cav_20_hv_20_testing_hist.txt',\n",
       " './logs/test/gcn_cav_20_hv_30_testing_hist.txt',\n",
       " './logs/test/gcn_cav_20_hv_40_testing_hist.txt',\n",
       " './logs/test/gcn_cav_20_hv_50_testing_hist.txt',\n",
       " './logs/test/lstm_cav_20_hv_10_testing_hist.txt',\n",
       " './logs/test/lstm_cav_20_hv_20_testing_hist.txt',\n",
       " './logs/test/lstm_cav_20_hv_30_testing_hist.txt',\n",
       " './logs/test/lstm_cav_20_hv_40_testing_hist.txt',\n",
       " './logs/test/lstm_cav_20_hv_50_testing_hist.txt',\n",
       " './logs/test/rule_based_cav_20_hv_10_testing_hist2.txt',\n",
       " './logs/test/rule_based_cav_20_hv_20_testing_hist2.txt',\n",
       " './logs/test/rule_based_cav_20_hv_30_testing_hist2.txt',\n",
       " './logs/test/rule_based_cav_20_hv_40_testing_hist2.txt',\n",
       " './logs/test/rule_based_cav_20_hv_50_testing_hist2.txt']"
      ]
     },
     "execution_count": 8,
     "metadata": {},
     "output_type": "execute_result"
    }
   ],
   "source": [
    "files"
   ]
  },
  {
   "cell_type": "code",
   "execution_count": 9,
   "metadata": {},
   "outputs": [],
   "source": [
    "file_name = files[0]"
   ]
  },
  {
   "cell_type": "code",
   "execution_count": 10,
   "metadata": {},
   "outputs": [],
   "source": [
    "stat_df = pd.DataFrame(columns=['model_name','num_hv','mean','median','std'])\n",
    "\n",
    "for file_name in files:\n",
    "    with open(file_name,'r') as f:\n",
    "        model_name = file_name.split('/')[-1].split('_')[0]\n",
    "        if model_name == \"rule\":\n",
    "            number = file_name.split('/')[-1].split('_')[5]\n",
    "        \n",
    "        else:\n",
    "            number = file_name.split('/')[-1].split('_')[4]\n",
    "        data = json.load(f)\n",
    "        raw = np.array(data['episode_reward'])\n",
    "        mean = raw.mean()\n",
    "        median = np.median(raw)\n",
    "        std = raw.std()\n",
    "        stat_df = stat_df.append({\"model_name\": model_name,\\\n",
    "                                  \"num_hv\": int(number),\\\n",
    "                                  \"mean\":mean,\\\n",
    "                                  \"median\":median,\\\n",
    "                                  \"std\":std,\\\n",
    "                                  }, ignore_index=True)\n",
    "\n",
    "stat_df.replace({'gcn':'GCQ','lstm':'LSTM-Q','rule':'Rule based'},inplace=True)\n",
    "stat_df['hdv_inflow_rate'] = stat_df['num_hv']/100"
   ]
  },
  {
   "cell_type": "code",
   "execution_count": 11,
   "metadata": {},
   "outputs": [],
   "source": [
    "# stat_df.to_excel('../papers/stats.xlsx',index=False)"
   ]
  },
  {
   "cell_type": "code",
   "execution_count": 14,
   "metadata": {},
   "outputs": [
    {
     "data": {
      "text/html": [
       "<div>\n",
       "<style scoped>\n",
       "    .dataframe tbody tr th:only-of-type {\n",
       "        vertical-align: middle;\n",
       "    }\n",
       "\n",
       "    .dataframe tbody tr th {\n",
       "        vertical-align: top;\n",
       "    }\n",
       "\n",
       "    .dataframe thead th {\n",
       "        text-align: right;\n",
       "    }\n",
       "</style>\n",
       "<table border=\"1\" class=\"dataframe\">\n",
       "  <thead>\n",
       "    <tr style=\"text-align: right;\">\n",
       "      <th></th>\n",
       "      <th>model_name</th>\n",
       "      <th>num_hv</th>\n",
       "      <th>mean</th>\n",
       "      <th>median</th>\n",
       "      <th>std</th>\n",
       "      <th>hdv_inflow_rate</th>\n",
       "    </tr>\n",
       "  </thead>\n",
       "  <tbody>\n",
       "    <tr>\n",
       "      <th>0</th>\n",
       "      <td>GCQ</td>\n",
       "      <td>10</td>\n",
       "      <td>3521.856909</td>\n",
       "      <td>3509.649768</td>\n",
       "      <td>491.765467</td>\n",
       "      <td>0.1</td>\n",
       "    </tr>\n",
       "    <tr>\n",
       "      <th>1</th>\n",
       "      <td>GCQ</td>\n",
       "      <td>20</td>\n",
       "      <td>3537.712347</td>\n",
       "      <td>3635.833277</td>\n",
       "      <td>1121.653081</td>\n",
       "      <td>0.2</td>\n",
       "    </tr>\n",
       "    <tr>\n",
       "      <th>2</th>\n",
       "      <td>GCQ</td>\n",
       "      <td>30</td>\n",
       "      <td>2221.857719</td>\n",
       "      <td>3330.314566</td>\n",
       "      <td>1940.485726</td>\n",
       "      <td>0.3</td>\n",
       "    </tr>\n",
       "    <tr>\n",
       "      <th>3</th>\n",
       "      <td>GCQ</td>\n",
       "      <td>40</td>\n",
       "      <td>2594.944154</td>\n",
       "      <td>3288.565155</td>\n",
       "      <td>1815.315018</td>\n",
       "      <td>0.4</td>\n",
       "    </tr>\n",
       "    <tr>\n",
       "      <th>4</th>\n",
       "      <td>GCQ</td>\n",
       "      <td>50</td>\n",
       "      <td>4152.409638</td>\n",
       "      <td>4153.647218</td>\n",
       "      <td>447.031786</td>\n",
       "      <td>0.5</td>\n",
       "    </tr>\n",
       "    <tr>\n",
       "      <th>5</th>\n",
       "      <td>LSTM-Q</td>\n",
       "      <td>10</td>\n",
       "      <td>2075.678439</td>\n",
       "      <td>2360.235693</td>\n",
       "      <td>1506.240818</td>\n",
       "      <td>0.1</td>\n",
       "    </tr>\n",
       "    <tr>\n",
       "      <th>6</th>\n",
       "      <td>LSTM-Q</td>\n",
       "      <td>20</td>\n",
       "      <td>2680.930799</td>\n",
       "      <td>3887.893190</td>\n",
       "      <td>2340.381981</td>\n",
       "      <td>0.2</td>\n",
       "    </tr>\n",
       "    <tr>\n",
       "      <th>7</th>\n",
       "      <td>LSTM-Q</td>\n",
       "      <td>30</td>\n",
       "      <td>3200.399344</td>\n",
       "      <td>3139.563517</td>\n",
       "      <td>479.938566</td>\n",
       "      <td>0.3</td>\n",
       "    </tr>\n",
       "    <tr>\n",
       "      <th>8</th>\n",
       "      <td>LSTM-Q</td>\n",
       "      <td>40</td>\n",
       "      <td>2401.249718</td>\n",
       "      <td>2951.535341</td>\n",
       "      <td>1762.042909</td>\n",
       "      <td>0.4</td>\n",
       "    </tr>\n",
       "    <tr>\n",
       "      <th>9</th>\n",
       "      <td>LSTM-Q</td>\n",
       "      <td>50</td>\n",
       "      <td>826.669484</td>\n",
       "      <td>1068.988489</td>\n",
       "      <td>1919.525123</td>\n",
       "      <td>0.5</td>\n",
       "    </tr>\n",
       "    <tr>\n",
       "      <th>10</th>\n",
       "      <td>Rule based</td>\n",
       "      <td>10</td>\n",
       "      <td>-8471.197524</td>\n",
       "      <td>-6949.538381</td>\n",
       "      <td>5897.700541</td>\n",
       "      <td>0.1</td>\n",
       "    </tr>\n",
       "    <tr>\n",
       "      <th>11</th>\n",
       "      <td>Rule based</td>\n",
       "      <td>20</td>\n",
       "      <td>-7563.426799</td>\n",
       "      <td>-7173.262893</td>\n",
       "      <td>4423.509211</td>\n",
       "      <td>0.2</td>\n",
       "    </tr>\n",
       "    <tr>\n",
       "      <th>12</th>\n",
       "      <td>Rule based</td>\n",
       "      <td>30</td>\n",
       "      <td>-11242.495988</td>\n",
       "      <td>-11824.145227</td>\n",
       "      <td>4254.151386</td>\n",
       "      <td>0.3</td>\n",
       "    </tr>\n",
       "    <tr>\n",
       "      <th>13</th>\n",
       "      <td>Rule based</td>\n",
       "      <td>40</td>\n",
       "      <td>-9642.279544</td>\n",
       "      <td>-9247.029271</td>\n",
       "      <td>2631.404814</td>\n",
       "      <td>0.4</td>\n",
       "    </tr>\n",
       "    <tr>\n",
       "      <th>14</th>\n",
       "      <td>Rule based</td>\n",
       "      <td>50</td>\n",
       "      <td>-10143.955695</td>\n",
       "      <td>-9715.168787</td>\n",
       "      <td>4284.759198</td>\n",
       "      <td>0.5</td>\n",
       "    </tr>\n",
       "  </tbody>\n",
       "</table>\n",
       "</div>"
      ],
      "text/plain": [
       "    model_name  num_hv          mean        median          std  \\\n",
       "0          GCQ      10   3521.856909   3509.649768   491.765467   \n",
       "1          GCQ      20   3537.712347   3635.833277  1121.653081   \n",
       "2          GCQ      30   2221.857719   3330.314566  1940.485726   \n",
       "3          GCQ      40   2594.944154   3288.565155  1815.315018   \n",
       "4          GCQ      50   4152.409638   4153.647218   447.031786   \n",
       "5       LSTM-Q      10   2075.678439   2360.235693  1506.240818   \n",
       "6       LSTM-Q      20   2680.930799   3887.893190  2340.381981   \n",
       "7       LSTM-Q      30   3200.399344   3139.563517   479.938566   \n",
       "8       LSTM-Q      40   2401.249718   2951.535341  1762.042909   \n",
       "9       LSTM-Q      50    826.669484   1068.988489  1919.525123   \n",
       "10  Rule based      10  -8471.197524  -6949.538381  5897.700541   \n",
       "11  Rule based      20  -7563.426799  -7173.262893  4423.509211   \n",
       "12  Rule based      30 -11242.495988 -11824.145227  4254.151386   \n",
       "13  Rule based      40  -9642.279544  -9247.029271  2631.404814   \n",
       "14  Rule based      50 -10143.955695  -9715.168787  4284.759198   \n",
       "\n",
       "    hdv_inflow_rate  \n",
       "0               0.1  \n",
       "1               0.2  \n",
       "2               0.3  \n",
       "3               0.4  \n",
       "4               0.5  \n",
       "5               0.1  \n",
       "6               0.2  \n",
       "7               0.3  \n",
       "8               0.4  \n",
       "9               0.5  \n",
       "10              0.1  \n",
       "11              0.2  \n",
       "12              0.3  \n",
       "13              0.4  \n",
       "14              0.5  "
      ]
     },
     "execution_count": 14,
     "metadata": {},
     "output_type": "execute_result"
    }
   ],
   "source": [
    "stat_df"
   ]
  },
  {
   "cell_type": "code",
   "execution_count": 53,
   "metadata": {},
   "outputs": [
    {
     "data": {
      "image/png": "[encoded data removed]",
      "text/plain": [
       "<Figure size 432x288 with 1 Axes>"
      ]
     },
     "metadata": {
      "needs_background": "light"
     },
     "output_type": "display_data"
    }
   ],
   "source": [
    "x = [0.1,0.2,0.3,0.4,0.5]\n",
    "\n",
    "GCQ_means = stat_df[stat_df['model_name'] == 'GCQ']['mean']\n",
    "LSTMQ_means = stat_df[stat_df['model_name'] == 'LSTM-Q']['mean']\n",
    "Rulebased_means = stat_df[stat_df['model_name'] == 'Rule based']['mean']\n",
    "\n",
    "x = np.array(x)  # the label locations\n",
    "\n",
    "width = 0.02\n",
    "fig, ax = plt.subplots()\n",
    "\n",
    "rects1 = ax.bar(x - width, GCQ_means, width, label='Men',color='none',hatch=\"//\", edgecolor='black',zorder = 0)\n",
    "rects1_b = ax.bar(x - width, GCQ_means, width, color='none', edgecolor='k', zorder=1, lw=1.)\n",
    "\n",
    "rects2 = ax.bar(x, LSTMQ_means, width, label='LSTM-Q',color='grey',hatch=\"-\", edgecolor='black',zorder = 0)\n",
    "rects2_b = ax.bar(x, LSTMQ_means, width, color='none', edgecolor='k', zorder=1, lw=1.)\n",
    "\n",
    "rects3 = ax.bar(x + width, Rulebased_means, width, label='Rule based',color='none',hatch=\".\", edgecolor='black',zorder = 0)\n",
    "rects3_b = ax.bar(x + width, Rulebased_means, width, color='none', edgecolor='k', zorder=1, lw=1.)\n",
    "\n",
    "ax.legend(labelspacing=0.7)\n",
    "plt.title(\"Mean reward vs. HDV inflow\")\n",
    "plt.xlabel('HDV inflow rate (veh/sec)')\n",
    "plt.ylabel('Mean episode reward')\n",
    "\n",
    "plt.savefig('./figures/mean_reward.png',dpi=400,bbox_inches=\"tight\")"
   ]
  },
  {
   "cell_type": "code",
   "execution_count": null,
   "metadata": {},
   "outputs": [],
   "source": []
  },
  {
   "cell_type": "code",
   "execution_count": null,
   "metadata": {},
   "outputs": [],
   "source": []
  },
  {
   "cell_type": "code",
   "execution_count": 52,
   "metadata": {},
   "outputs": [
    {
     "data": {
      "image/png": "[encoded data removed]",
      "text/plain": [
       "<Figure size 432x288 with 1 Axes>"
      ]
     },
     "metadata": {
      "needs_background": "light"
     },
     "output_type": "display_data"
    }
   ],
   "source": [
    "x = [0.1,0.2,0.3,0.4,0.5]\n",
    "\n",
    "GCQ_means = stat_df[stat_df['model_name'] == 'GCQ']['std']\n",
    "LSTMQ_means = stat_df[stat_df['model_name'] == 'LSTM-Q']['std']\n",
    "Rulebased_means = stat_df[stat_df['model_name'] == 'Rule based']['std']\n",
    "\n",
    "x = np.array(x)  # the label locations\n",
    "\n",
    "width = 0.02\n",
    "fig, ax = plt.subplots()\n",
    "\n",
    "rects1 = ax.bar(x - width, GCQ_means, width, label='Men',color='none',hatch=\"//\", edgecolor='black',zorder = 0)\n",
    "rects1_b = ax.bar(x - width, GCQ_means, width, color='none', edgecolor='k', zorder=1, lw=1.)\n",
    "\n",
    "rects2 = ax.bar(x, LSTMQ_means, width, label='LSTM-Q',color='grey',hatch=\"-\", edgecolor='black',zorder = 0)\n",
    "rects2_b = ax.bar(x, LSTMQ_means, width, color='none', edgecolor='k', zorder=1, lw=1.)\n",
    "\n",
    "rects3 = ax.bar(x + width, Rulebased_means, width, label='Rule based',color='none',hatch=\".\", edgecolor='black',zorder = 0)\n",
    "rects3_b = ax.bar(x + width, Rulebased_means, width, color='none', edgecolor='k', zorder=1, lw=1.)\n",
    "\n",
    "plt.title(\"Reward std vs. HDV inflow\")\n",
    "plt.xlabel('HDV inflow rate (veh/sec)')\n",
    "ax.legend(edgecolor='k',labelspacing=0.7)\n",
    "plt.ylabel('Episode reward standard deviation')\n",
    "plt.savefig('./figures/std_reward.png',dpi=400,bbox_inches=\"tight\")"
   ]
  },
  {
   "cell_type": "code",
   "execution_count": 15,
   "metadata": {},
   "outputs": [
    {
     "data": {
      "text/plain": [
       "Text(0, 0.5, 'Mean episode reward')"
      ]
     },
     "execution_count": 15,
     "metadata": {},
     "output_type": "execute_result"
    },
    {
     "data": {
      "image/png": "[encoded data removed]",
      "text/plain": [
       "<Figure size 432x288 with 1 Axes>"
      ]
     },
     "metadata": {
      "needs_background": "light"
     },
     "output_type": "display_data"
    }
   ],
   "source": [
    "\n",
    "# ax = sns.barplot(x='hdv_inflow_rate',y='mean',hue='model_name',data=stat_df,color=\"white\",edgecolor='black')\n",
    "\n",
    "# hatches = itertools.cycle(['.','//', '+', '-', 'x', '\\\\', '*', 'o', 'O', '.'])\n",
    "# colors = itertools.cycle(['r','g','b'])\n",
    "# for i, bar in enumerate(ax.patches):\n",
    "#     if i % 5 == 0:\n",
    "#         hatch = next(hatches)\n",
    "#     bar.set_hatch(hatch)\n",
    "# ax.legend(shadow=True)\n",
    "    \n",
    "# plt.title(\"Mean reward vs. HDV inflow\")\n",
    "# plt.xlabel('HDV inflow rate (veh/sec)')\n",
    "# plt.ylabel('Mean episode reward')\n",
    "\n",
    "# # plt.savefig('../papers/figures/mean_reward.png',dpi=400,bbox_inches=\"tight\")"
   ]
  },
  {
   "cell_type": "code",
   "execution_count": null,
   "metadata": {},
   "outputs": [],
   "source": []
  },
  {
   "cell_type": "code",
   "execution_count": 16,
   "metadata": {},
   "outputs": [
    {
     "data": {
      "image/png": "[encoded data removed]",
      "text/plain": [
       "<Figure size 432x288 with 1 Axes>"
      ]
     },
     "metadata": {
      "needs_background": "light"
     },
     "output_type": "display_data"
    }
   ],
   "source": [
    "sns.barplot(x='hdv_inflow_rate',y='median',hue='model_name',data=stat_df)\n",
    "plt.title(\"Median reward vs. HDV inflow\")\n",
    "plt.xlabel('HDV inflow rate (veh/sec)')\n",
    "plt.ylabel('Median episode reward')\n",
    "plt.savefig('../papers/figures/median_reward.png',dpi=400,bbox_inches=\"tight\")\n"
   ]
  },
  {
   "cell_type": "code",
   "execution_count": 17,
   "metadata": {},
   "outputs": [
    {
     "data": {
      "image/png": "[encoded data removed]",
      "text/plain": [
       "<Figure size 432x288 with 1 Axes>"
      ]
     },
     "metadata": {
      "needs_background": "light"
     },
     "output_type": "display_data"
    }
   ],
   "source": [
    "sns.barplot(x='hdv_inflow_rate',y='std',hue='model_name',data=stat_df)\n",
    "plt.title(\"Reward std vs. HDV inflow\")\n",
    "plt.xlabel('HDV inflow rate (veh/sec)')\n",
    "plt.ylabel('Episode reward standard deviation')\n",
    "plt.savefig('../papers/figures/std_reward.png',dpi=400,bbox_inches=\"tight\")"
   ]
  },
  {
   "cell_type": "code",
   "execution_count": null,
   "metadata": {},
   "outputs": [],
   "source": []
  },
  {
   "cell_type": "markdown",
   "metadata": {},
   "source": [
    "## number of steps measure"
   ]
  },
  {
   "cell_type": "code",
   "execution_count": 21,
   "metadata": {},
   "outputs": [],
   "source": [
    "stat_df2 = pd.DataFrame(columns=['model_name','num_hv','mean','median','std'])\n",
    "\n",
    "for file_name in files:\n",
    "    with open(file_name,'r') as f:\n",
    "        model_name = file_name.split('/')[-1].split('_')[0]\n",
    "        if model_name == \"rule\":\n",
    "            number = file_name.split('/')[-1].split('_')[5]\n",
    "            col_name = 'num_steps'\n",
    "        else:\n",
    "            number = file_name.split('/')[-1].split('_')[4]\n",
    "            col_name = 'nb_steps'\n",
    "        data = json.load(f)\n",
    "        raw = np.array(data[col_name])\n",
    "        mean = raw.mean()\n",
    "        median = np.median(raw)\n",
    "        std = raw.std()\n",
    "        stat_df2 = stat_df2.append({\"model_name\": model_name,\\\n",
    "                                  \"num_hv\": int(number),\\\n",
    "                                  \"mean\":mean,\\\n",
    "                                  \"median\":median,\\\n",
    "                                  \"std\":std,\\\n",
    "                                  }, ignore_index=True)\n",
    "\n",
    "stat_df2.replace({'gcn':'GCQ','lstm':'LSTM-Q','rule':'Rule based'},inplace=True)\n",
    "stat_df2['hdv_inflow_rate'] = stat_df['num_hv']/100"
   ]
  },
  {
   "cell_type": "code",
   "execution_count": 22,
   "metadata": {},
   "outputs": [
    {
     "data": {
      "text/html": [
       "<div>\n",
       "<style scoped>\n",
       "    .dataframe tbody tr th:only-of-type {\n",
       "        vertical-align: middle;\n",
       "    }\n",
       "\n",
       "    .dataframe tbody tr th {\n",
       "        vertical-align: top;\n",
       "    }\n",
       "\n",
       "    .dataframe thead th {\n",
       "        text-align: right;\n",
       "    }\n",
       "</style>\n",
       "<table border=\"1\" class=\"dataframe\">\n",
       "  <thead>\n",
       "    <tr style=\"text-align: right;\">\n",
       "      <th></th>\n",
       "      <th>model_name</th>\n",
       "      <th>num_hv</th>\n",
       "      <th>mean</th>\n",
       "      <th>median</th>\n",
       "      <th>std</th>\n",
       "      <th>hdv_inflow_rate</th>\n",
       "    </tr>\n",
       "  </thead>\n",
       "  <tbody>\n",
       "    <tr>\n",
       "      <th>0</th>\n",
       "      <td>GCQ</td>\n",
       "      <td>10</td>\n",
       "      <td>1369.6</td>\n",
       "      <td>1340.5</td>\n",
       "      <td>231.473195</td>\n",
       "      <td>0.1</td>\n",
       "    </tr>\n",
       "    <tr>\n",
       "      <th>1</th>\n",
       "      <td>GCQ</td>\n",
       "      <td>20</td>\n",
       "      <td>1456.2</td>\n",
       "      <td>1484.0</td>\n",
       "      <td>206.603872</td>\n",
       "      <td>0.2</td>\n",
       "    </tr>\n",
       "    <tr>\n",
       "      <th>2</th>\n",
       "      <td>GCQ</td>\n",
       "      <td>30</td>\n",
       "      <td>1485.9</td>\n",
       "      <td>1502.5</td>\n",
       "      <td>180.152408</td>\n",
       "      <td>0.3</td>\n",
       "    </tr>\n",
       "    <tr>\n",
       "      <th>3</th>\n",
       "      <td>GCQ</td>\n",
       "      <td>40</td>\n",
       "      <td>1421.9</td>\n",
       "      <td>1437.5</td>\n",
       "      <td>211.819003</td>\n",
       "      <td>0.4</td>\n",
       "    </tr>\n",
       "    <tr>\n",
       "      <th>4</th>\n",
       "      <td>GCQ</td>\n",
       "      <td>50</td>\n",
       "      <td>1479.8</td>\n",
       "      <td>1435.5</td>\n",
       "      <td>233.732240</td>\n",
       "      <td>0.5</td>\n",
       "    </tr>\n",
       "    <tr>\n",
       "      <th>5</th>\n",
       "      <td>LSTM-Q</td>\n",
       "      <td>10</td>\n",
       "      <td>1513.9</td>\n",
       "      <td>1477.0</td>\n",
       "      <td>307.109899</td>\n",
       "      <td>0.1</td>\n",
       "    </tr>\n",
       "    <tr>\n",
       "      <th>6</th>\n",
       "      <td>LSTM-Q</td>\n",
       "      <td>20</td>\n",
       "      <td>1538.8</td>\n",
       "      <td>1452.5</td>\n",
       "      <td>262.654831</td>\n",
       "      <td>0.2</td>\n",
       "    </tr>\n",
       "    <tr>\n",
       "      <th>7</th>\n",
       "      <td>LSTM-Q</td>\n",
       "      <td>30</td>\n",
       "      <td>1350.8</td>\n",
       "      <td>1410.0</td>\n",
       "      <td>244.877847</td>\n",
       "      <td>0.3</td>\n",
       "    </tr>\n",
       "    <tr>\n",
       "      <th>8</th>\n",
       "      <td>LSTM-Q</td>\n",
       "      <td>40</td>\n",
       "      <td>1460.4</td>\n",
       "      <td>1407.5</td>\n",
       "      <td>261.397093</td>\n",
       "      <td>0.4</td>\n",
       "    </tr>\n",
       "    <tr>\n",
       "      <th>9</th>\n",
       "      <td>LSTM-Q</td>\n",
       "      <td>50</td>\n",
       "      <td>1460.9</td>\n",
       "      <td>1476.0</td>\n",
       "      <td>270.875045</td>\n",
       "      <td>0.5</td>\n",
       "    </tr>\n",
       "    <tr>\n",
       "      <th>10</th>\n",
       "      <td>Rule based</td>\n",
       "      <td>10</td>\n",
       "      <td>3003.6</td>\n",
       "      <td>2593.5</td>\n",
       "      <td>1040.551892</td>\n",
       "      <td>0.1</td>\n",
       "    </tr>\n",
       "    <tr>\n",
       "      <th>11</th>\n",
       "      <td>Rule based</td>\n",
       "      <td>20</td>\n",
       "      <td>2743.5</td>\n",
       "      <td>2843.5</td>\n",
       "      <td>587.996981</td>\n",
       "      <td>0.2</td>\n",
       "    </tr>\n",
       "    <tr>\n",
       "      <th>12</th>\n",
       "      <td>Rule based</td>\n",
       "      <td>30</td>\n",
       "      <td>2813.6</td>\n",
       "      <td>2693.5</td>\n",
       "      <td>419.590562</td>\n",
       "      <td>0.3</td>\n",
       "    </tr>\n",
       "    <tr>\n",
       "      <th>13</th>\n",
       "      <td>Rule based</td>\n",
       "      <td>40</td>\n",
       "      <td>2524.3</td>\n",
       "      <td>2394.0</td>\n",
       "      <td>627.114989</td>\n",
       "      <td>0.4</td>\n",
       "    </tr>\n",
       "    <tr>\n",
       "      <th>14</th>\n",
       "      <td>Rule based</td>\n",
       "      <td>50</td>\n",
       "      <td>2483.5</td>\n",
       "      <td>2394.0</td>\n",
       "      <td>228.954690</td>\n",
       "      <td>0.5</td>\n",
       "    </tr>\n",
       "  </tbody>\n",
       "</table>\n",
       "</div>"
      ],
      "text/plain": [
       "    model_name  num_hv    mean  median          std  hdv_inflow_rate\n",
       "0          GCQ      10  1369.6  1340.5   231.473195              0.1\n",
       "1          GCQ      20  1456.2  1484.0   206.603872              0.2\n",
       "2          GCQ      30  1485.9  1502.5   180.152408              0.3\n",
       "3          GCQ      40  1421.9  1437.5   211.819003              0.4\n",
       "4          GCQ      50  1479.8  1435.5   233.732240              0.5\n",
       "5       LSTM-Q      10  1513.9  1477.0   307.109899              0.1\n",
       "6       LSTM-Q      20  1538.8  1452.5   262.654831              0.2\n",
       "7       LSTM-Q      30  1350.8  1410.0   244.877847              0.3\n",
       "8       LSTM-Q      40  1460.4  1407.5   261.397093              0.4\n",
       "9       LSTM-Q      50  1460.9  1476.0   270.875045              0.5\n",
       "10  Rule based      10  3003.6  2593.5  1040.551892              0.1\n",
       "11  Rule based      20  2743.5  2843.5   587.996981              0.2\n",
       "12  Rule based      30  2813.6  2693.5   419.590562              0.3\n",
       "13  Rule based      40  2524.3  2394.0   627.114989              0.4\n",
       "14  Rule based      50  2483.5  2394.0   228.954690              0.5"
      ]
     },
     "execution_count": 22,
     "metadata": {},
     "output_type": "execute_result"
    }
   ],
   "source": [
    "stat_df2"
   ]
  },
  {
   "cell_type": "code",
   "execution_count": 50,
   "metadata": {},
   "outputs": [
    {
     "data": {
      "image/png": "[encoded data removed]",
      "text/plain": [
       "<Figure size 432x288 with 1 Axes>"
      ]
     },
     "metadata": {
      "needs_background": "light"
     },
     "output_type": "display_data"
    }
   ],
   "source": [
    "x = [0.1,0.2,0.3,0.4,0.5]\n",
    "\n",
    "GCQ_means = stat_df2[stat_df2['model_name'] == 'GCQ']['mean']\n",
    "LSTMQ_means = stat_df2[stat_df2['model_name'] == 'LSTM-Q']['mean']\n",
    "Rulebased_means = stat_df2[stat_df2['model_name'] == 'Rule based']['mean']\n",
    "\n",
    "x = np.array(x)  # the label locations\n",
    "\n",
    "width = 0.02\n",
    "fig, ax = plt.subplots()\n",
    "\n",
    "rects1 = ax.bar(x - width, GCQ_means, width, label='Men',color='none',hatch=\"//\", edgecolor='black',zorder = 0)\n",
    "rects1_b = ax.bar(x - width, GCQ_means, width, color='none', edgecolor='k', zorder=1, lw=1.)\n",
    "\n",
    "rects2 = ax.bar(x, LSTMQ_means, width, label='LSTM-Q',color='grey',hatch=\"-\", edgecolor='black',zorder = 0)\n",
    "rects2_b = ax.bar(x, LSTMQ_means, width, color='none', edgecolor='k', zorder=1, lw=1.)\n",
    "\n",
    "rects3 = ax.bar(x + width, Rulebased_means, width, label='Rule based',color='none',hatch=\".\", edgecolor='black',zorder = 0)\n",
    "rects3_b = ax.bar(x + width, Rulebased_means, width, color='none', edgecolor='k', zorder=1, lw=1.)\n",
    "\n",
    "ax.legend(edgecolor='k',labelspacing=0.7)\n",
    "plt.title(\"Mean number of total simulation steps vs. HDV inflow\")\n",
    "plt.xlabel('HDV inflow rate (veh/sec)')\n",
    "plt.ylabel('Total number of simulation steps')\n",
    "\n",
    "plt.savefig('./figures/mean_num_steps.png',dpi=400,bbox_inches=\"tight\")"
   ]
  },
  {
   "cell_type": "code",
   "execution_count": 49,
   "metadata": {},
   "outputs": [
    {
     "data": {
      "image/png": "[encoded data removed]",
      "text/plain": [
       "<Figure size 432x288 with 1 Axes>"
      ]
     },
     "metadata": {
      "needs_background": "light"
     },
     "output_type": "display_data"
    }
   ],
   "source": [
    "x = [0.1,0.2,0.3,0.4,0.5]\n",
    "\n",
    "GCQ_means = stat_df2[stat_df2['model_name'] == 'GCQ']['std']\n",
    "LSTMQ_means = stat_df2[stat_df2['model_name'] == 'LSTM-Q']['std']\n",
    "Rulebased_means = stat_df2[stat_df2['model_name'] == 'Rule based']['std']\n",
    "\n",
    "x = np.array(x)  # the label locations\n",
    "\n",
    "width = 0.02\n",
    "fig, ax = plt.subplots()\n",
    "\n",
    "rects1 = ax.bar(x - width, GCQ_means, width, label='Men',color='none',hatch=\"//\", edgecolor='black',zorder = 0)\n",
    "rects1_b = ax.bar(x - width, GCQ_means, width, color='none', edgecolor='k', zorder=1, lw=1.)\n",
    "\n",
    "rects2 = ax.bar(x, LSTMQ_means, width, label='LSTM-Q',color='grey',hatch=\"-\", edgecolor='black',zorder = 0)\n",
    "rects2_b = ax.bar(x, LSTMQ_means, width, color='none', edgecolor='k', zorder=1, lw=1.)\n",
    "\n",
    "rects3 = ax.bar(x + width, Rulebased_means, width, label='Rule based',color='none',hatch=\".\", edgecolor='black',zorder = 0)\n",
    "rects3_b = ax.bar(x + width, Rulebased_means, width, color='none', edgecolor='k', zorder=1, lw=1.)\n",
    "\n",
    "ax.legend(edgecolor='k',labelspacing=0.7)\n",
    "\n",
    "plt.title(\"Standard deviation in number of total simulation steps vs. HDV inflow\")\n",
    "plt.xlabel('HDV inflow rate (veh/sec)')\n",
    "plt.ylabel('Total number of simulation steps')\n",
    "\n",
    "plt.savefig('./figures/std_num_steps.png',dpi=400,bbox_inches=\"tight\")"
   ]
  },
  {
   "cell_type": "code",
   "execution_count": null,
   "metadata": {},
   "outputs": [],
   "source": []
  }
 ],
 "metadata": {
  "kernelspec": {
   "display_name": "Python 3.7.8 64-bit ('3.7.8': pyenv)",
   "language": "python",
   "name": "python37864bit378pyenv6ad9de807ec84614b4bb6c318c3f6f74"
  },
  "language_info": {
   "codemirror_mode": {
    "name": "ipython",
    "version": 3
   },
   "file_extension": ".py",
   "mimetype": "text/x-python",
   "name": "python",
   "nbconvert_exporter": "python",
   "pygments_lexer": "ipython3",
   "version": "3.7.8"
  }
 },
 "nbformat": 4,
 "nbformat_minor": 2
}

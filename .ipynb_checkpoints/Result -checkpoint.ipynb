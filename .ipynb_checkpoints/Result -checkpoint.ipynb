{
 "cells": [
  {
   "cell_type": "code",
   "execution_count": 2,
   "metadata": {},
   "outputs": [],
   "source": [
    "import numpy as np\n",
    "import json\n",
    "import matplotlib.pyplot as plt\n",
    "import glob\n"
   ]
  },
  {
   "cell_type": "code",
   "execution_count": 3,
   "metadata": {},
   "outputs": [
    {
     "data": {
      "text/plain": [
       "['./logs/test/gcn_cav_20_hv_30_testing_hist.txt',\n",
       " './logs/test/gcn_cav_20_hv_20_testing_hist.txt',\n",
       " './logs/test/gcn_cav_20_hv_40_testing_hist.txt',\n",
       " './logs/test/gcn_cav_20_hv_10_testing_hist.txt',\n",
       " './logs/test/gcn_cav_20_hv_50_testing_hist.txt',\n",
       " './logs/test/lstm_cav_20_hv_20_testing_hist.txt',\n",
       " './logs/test/lstm_cav_20_hv_30_testing_hist.txt',\n",
       " './logs/test/lstm_cav_20_hv_50_testing_hist.txt',\n",
       " './logs/test/lstm_cav_20_hv_40_testing_hist.txt',\n",
       " './logs/test/lstm_cav_20_hv_10_testing_hist.txt']"
      ]
     },
     "execution_count": 3,
     "metadata": {},
     "output_type": "execute_result"
    }
   ],
   "source": [
    "files = glob.glob('./logs/test/*.txt')\n",
    "files"
   ]
  },
  {
   "cell_type": "code",
   "execution_count": null,
   "metadata": {},
   "outputs": [],
   "source": []
  }
 ],
 "metadata": {
  "kernelspec": {
   "display_name": "flow",
   "language": "python",
   "name": "flow"
  },
  "language_info": {
   "codemirror_mode": {
    "name": "ipython",
    "version": 3
   },
   "file_extension": ".py",
   "mimetype": "text/x-python",
   "name": "python",
   "nbconvert_exporter": "python",
   "pygments_lexer": "ipython3",
   "version": "3.6.8"
  }
 },
 "nbformat": 4,
 "nbformat_minor": 2
}

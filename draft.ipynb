{
 "cells": [
  {
   "cell_type": "code",
   "execution_count": 1,
   "metadata": {},
   "outputs": [],
   "source": [
    "from spektral.layers import GraphConv\n",
    "from tensorflow.keras.layers import Input, Dense, Lambda\n",
    "from tensorflow.keras.backend import gather, squeeze\n",
    "from tensorflow.keras.models import Model\n",
    "from tensorflow.keras.optimizers import Adam\n",
    "from tensorflow.keras.regularizers import l2\n"
   ]
  },
  {
   "cell_type": "markdown",
   "metadata": {},
   "source": [
    "## First trail"
   ]
  },
  {
   "cell_type": "code",
   "execution_count": 2,
   "metadata": {},
   "outputs": [
    {
     "name": "stdout",
     "output_type": "stream",
     "text": [
      "Model: \"model\"\n",
      "__________________________________________________________________________________________________\n",
      "Layer (type)                    Output Shape         Param #     Connected to                     \n",
      "==================================================================================================\n",
      "X_in (InputLayer)               [(None, 9)]          0                                            \n",
      "__________________________________________________________________________________________________\n",
      "A_in (InputLayer)               [(None, None)]       0                                            \n",
      "__________________________________________________________________________________________________\n",
      "gcn1 (GraphConv)                (None, 32)           320         X_in[0][0]                       \n",
      "                                                                 A_in[0][0]                       \n",
      "__________________________________________________________________________________________________\n",
      "gcn2 (GraphConv)                (None, 32)           1056        gcn1[0][0]                       \n",
      "                                                                 A_in[0][0]                       \n",
      "__________________________________________________________________________________________________\n",
      "slice (Lambda)                  (1, None, 32)        0           gcn2[0][0]                       \n",
      "__________________________________________________________________________________________________\n",
      "squeeze (Lambda)                (None, 32)           0           slice[0][0]                      \n",
      "__________________________________________________________________________________________________\n",
      "policy_1 (Dense)                (None, 32)           1056        squeeze[0][0]                    \n",
      "__________________________________________________________________________________________________\n",
      "policy_2 (Dense)                (None, 16)           528         policy_1[0][0]                   \n",
      "__________________________________________________________________________________________________\n",
      "RL_indice (InputLayer)          [(1, None)]          0                                            \n",
      "__________________________________________________________________________________________________\n",
      "policy_3 (Dense)                (None, 3)            51          policy_2[0][0]                   \n",
      "==================================================================================================\n",
      "Total params: 3,011\n",
      "Trainable params: 3,011\n",
      "Non-trainable params: 0\n",
      "__________________________________________________________________________________________________\n",
      "None\n"
     ]
    }
   ],
   "source": [
    "class GraphicEncoder():\n",
    "    def __init__(self, F):\n",
    "        self.model = self.build_model(F)\n",
    "\n",
    "    def build_model(self,F):\n",
    "        X_in = Input(shape=(F,), name='X_in')\n",
    "        A_in = Input(shape=(None,), name='A_in')\n",
    "        RL_indice = Input(shape=(None,),batch_size = 1, name='RL_indice',dtype='int32')\n",
    "\n",
    "        \n",
    "        ### Graphic convolution\n",
    "        \n",
    "        x = GraphConv(32, activation='relu',name='gcn1')([X_in, A_in])\n",
    "        x = GraphConv(32, activation='relu',name='gcn2')([x, A_in])\n",
    "        x = Lambda(lambda x: gather(x,RL_indice),name='slice')(x)\n",
    "        \n",
    "        x = Lambda(lambda x: squeeze(x,0),name='squeeze')(x)\n",
    "        \n",
    "        ### Policy network\n",
    "        \n",
    "        x = Dense(32,activation='relu',name='policy_1')(x)\n",
    "        x = Dense(16,activation='relu',name='policy_2')(x)\n",
    "        x = Dense(3, activation='relu',name='policy_3')(x)\n",
    "        \n",
    "        \n",
    "        model = Model(inputs = [X_in,A_in,RL_indice], outputs=x)\n",
    "        print(model.summary())\n",
    "        return model\n",
    "    \n",
    "    \n",
    "feature_size = 9\n",
    "rl_model = GraphicEncoder(feature_size)\n"
   ]
  },
  {
   "cell_type": "code",
   "execution_count": 3,
   "metadata": {},
   "outputs": [],
   "source": [
    "from gym.spaces.box import Box\n",
    "from gym.spaces import Discrete\n",
    "from gym.spaces.dict import Dict\n",
    "import numpy as np"
   ]
  },
  {
   "cell_type": "code",
   "execution_count": 4,
   "metadata": {},
   "outputs": [],
   "source": [
    "F = 9\n",
    "N = 40\n",
    "\n",
    "states = Box(low=-np.inf, high=np.inf, shape=(N,F), dtype=np.float32)\n",
    "adjacency = Box(low=0, high=1, shape = (N,N), dtype=np.int32)\n",
    "mask = Box(low=0, high=1, shape = (N,), dtype=np.int32)\n",
    "\n",
    "obs_space = Dict({'states':states,'adjacency':adjacency,'mask':mask})\n",
    "act_space = Box(low=0, high=1, shape = (N,), dtype=np.int32)"
   ]
  },
  {
   "cell_type": "markdown",
   "metadata": {},
   "source": [
    "## Second trail"
   ]
  },
  {
   "cell_type": "code",
   "execution_count": 5,
   "metadata": {},
   "outputs": [
    {
     "ename": "NameError",
     "evalue": "name 'TFModelV2' is not defined",
     "output_type": "error",
     "traceback": [
      "\u001b[0;31m---------------------------------------------------------------------------\u001b[0m",
      "\u001b[0;31mNameError\u001b[0m                                 Traceback (most recent call last)",
      "\u001b[0;32m<ipython-input-5-f3d7d23f5916>\u001b[0m in \u001b[0;36m<module>\u001b[0;34m\u001b[0m\n\u001b[1;32m      5\u001b[0m \u001b[0;32mfrom\u001b[0m \u001b[0mtensorflow\u001b[0m\u001b[0;34m.\u001b[0m\u001b[0mkeras\u001b[0m\u001b[0;34m.\u001b[0m\u001b[0mregularizers\u001b[0m \u001b[0;32mimport\u001b[0m \u001b[0ml2\u001b[0m\u001b[0;34m\u001b[0m\u001b[0;34m\u001b[0m\u001b[0m\n\u001b[1;32m      6\u001b[0m \u001b[0;34m\u001b[0m\u001b[0m\n\u001b[0;32m----> 7\u001b[0;31m \u001b[0;32mclass\u001b[0m \u001b[0mGraphicPolicy\u001b[0m\u001b[0;34m(\u001b[0m\u001b[0mTFModelV2\u001b[0m\u001b[0;34m)\u001b[0m\u001b[0;34m:\u001b[0m\u001b[0;34m\u001b[0m\u001b[0;34m\u001b[0m\u001b[0m\n\u001b[0m\u001b[1;32m      8\u001b[0m     \u001b[0;32mdef\u001b[0m \u001b[0m__init__\u001b[0m\u001b[0;34m(\u001b[0m\u001b[0mself\u001b[0m\u001b[0;34m,\u001b[0m \u001b[0mN\u001b[0m\u001b[0;34m,\u001b[0m\u001b[0mF\u001b[0m\u001b[0;34m,\u001b[0m \u001b[0mobs_space\u001b[0m\u001b[0;34m,\u001b[0m \u001b[0maction_space\u001b[0m\u001b[0;34m,\u001b[0m \u001b[0mnum_outputs\u001b[0m\u001b[0;34m=\u001b[0m\u001b[0;36m3\u001b[0m\u001b[0;34m,\u001b[0m \u001b[0mmodel_config\u001b[0m\u001b[0;34m=\u001b[0m\u001b[0;32mNone\u001b[0m\u001b[0;34m,\u001b[0m \u001b[0mname\u001b[0m\u001b[0;34m=\u001b[0m\u001b[0;34m'graphic_policy'\u001b[0m\u001b[0;34m)\u001b[0m\u001b[0;34m:\u001b[0m\u001b[0;34m\u001b[0m\u001b[0;34m\u001b[0m\u001b[0m\n\u001b[1;32m      9\u001b[0m         \u001b[0msuper\u001b[0m\u001b[0;34m(\u001b[0m\u001b[0mGraphicPolicy\u001b[0m\u001b[0;34m,\u001b[0m\u001b[0mself\u001b[0m\u001b[0;34m)\u001b[0m\u001b[0;34m.\u001b[0m\u001b[0m__init__\u001b[0m\u001b[0;34m(\u001b[0m\u001b[0mobs_space\u001b[0m\u001b[0;34m,\u001b[0m \u001b[0maction_space\u001b[0m\u001b[0;34m,\u001b[0m \u001b[0mnum_outputs\u001b[0m\u001b[0;34m,\u001b[0m \u001b[0mmodel_config\u001b[0m\u001b[0;34m,\u001b[0m \u001b[0mname\u001b[0m\u001b[0;34m)\u001b[0m\u001b[0;34m\u001b[0m\u001b[0;34m\u001b[0m\u001b[0m\n",
      "\u001b[0;31mNameError\u001b[0m: name 'TFModelV2' is not defined"
     ]
    }
   ],
   "source": [
    "from spektral.layers import GraphConv\n",
    "from tensorflow.keras.layers import Input, Dense, Lambda, Multiply, Reshape, Flatten\n",
    "from tensorflow.keras.models import Model\n",
    "from tensorflow.keras.optimizers import Adam\n",
    "from tensorflow.keras.regularizers import l2\n",
    "\n",
    "class GraphicPolicy(TFModelV2):\n",
    "    def __init__(self, N,F, obs_space, action_space, num_outputs=3, model_config=None, name='graphic_policy'):\n",
    "        super(GraphicPolicy,self).__init__(obs_space, action_space, num_outputs, model_config, name)\n",
    "        self.base_model = self.build_model(N,F,num_outputs)\n",
    "        self.register_variables(self.base_model.variables)\n",
    "        \n",
    "    def build_model(self,N,F,num_outputs):\n",
    "        X_in = Input(shape=(N,F), name='X_in')\n",
    "        A_in = Input(shape=(N,N), name='A_in')\n",
    "        RL_indice = Input(shape=(N), name='mask')\n",
    "        \n",
    "        ### Graphic convolution\n",
    "        \n",
    "        x = GraphConv(32, activation='relu',name='gcn1')([X_in, A_in])\n",
    "        x = GraphConv(32, activation='relu',name='gcn2')([x, A_in])\n",
    "\n",
    "        \n",
    "        ### Policy network\n",
    "        \n",
    "        x1 = Dense(32,activation='relu',name='policy_1')(x)\n",
    "        x2 = Dense(16,activation='relu',name='policy_2')(x1)\n",
    "        \n",
    "    \n",
    "        ###  Action and filter\n",
    "        x3 = Dense(num_outputs, activation='relu',name='policy_3')(x2)\n",
    "        mask = Reshape((N,1),name='expend_dim')(RL_indice)\n",
    "        out = Multiply(name='filter')([x3,mask])\n",
    "        \n",
    "        \n",
    "        #### Value out\n",
    "        x2 = Flatten(name='flatten')(x2)\n",
    "        value = Dense(1,activation='linear',name='value_out')(x2)\n",
    "        \n",
    "\n",
    "        model = Model(inputs = [X_in,A_in,RL_indice], outputs=[out,value])\n",
    "        print(model.summary())\n",
    "        return model\n",
    "    \n",
    "    def forward(self, input_dict, state, seq_lens):\n",
    "        obs = input_dic['obs']\n",
    "        model_out, self._value_out = self.base_model({X_in:obs['states'],A_in:obs['adjacency'],RL_indice:obs['mask']})        \n",
    "        return model_out,state\n",
    "        \n",
    "    def value_function(self):\n",
    "        return tf.reshape(self._value_out, [-1])\n",
    "    \n",
    "model_config = {}\n",
    "rl_model = GraphicPolicy(N,F, obs_space, act_space)"
   ]
  },
  {
   "cell_type": "code",
   "execution_count": null,
   "metadata": {},
   "outputs": [],
   "source": []
  },
  {
   "cell_type": "markdown",
   "metadata": {},
   "source": [
    "## Test for the model + agents"
   ]
  },
  {
   "cell_type": "code",
   "execution_count": 6,
   "metadata": {},
   "outputs": [],
   "source": [
    "from tensorflow.keras.utils import plot_model"
   ]
  },
  {
   "cell_type": "code",
   "execution_count": 7,
   "metadata": {},
   "outputs": [
    {
     "name": "stdout",
     "output_type": "stream",
     "text": [
      "Model: \"model_1\"\n",
      "__________________________________________________________________________________________________\n",
      "Layer (type)                    Output Shape         Param #     Connected to                     \n",
      "==================================================================================================\n",
      "X_in (InputLayer)               [(None, 40, 9)]      0                                            \n",
      "__________________________________________________________________________________________________\n",
      "encoder_1 (Dense)               (None, 40, 32)       320         X_in[0][0]                       \n",
      "__________________________________________________________________________________________________\n",
      "encoder_2 (Dense)               (None, 40, 32)       1056        encoder_1[0][0]                  \n",
      "__________________________________________________________________________________________________\n",
      "A_in (InputLayer)               [(None, 40, 40)]     0                                            \n",
      "__________________________________________________________________________________________________\n",
      "gcn1 (GraphConv)                (None, 40, 32)       1056        encoder_2[0][0]                  \n",
      "                                                                 A_in[0][0]                       \n",
      "__________________________________________________________________________________________________\n",
      "policy_1 (Dense)                (None, 40, 32)       1056        gcn1[0][0]                       \n",
      "__________________________________________________________________________________________________\n",
      "policy_2 (Dense)                (None, 40, 16)       528         policy_1[0][0]                   \n",
      "__________________________________________________________________________________________________\n",
      "mask (InputLayer)               [(None, 40)]         0                                            \n",
      "__________________________________________________________________________________________________\n",
      "policy_3 (Dense)                (None, 40, 3)        51          policy_2[0][0]                   \n",
      "__________________________________________________________________________________________________\n",
      "expend_dim (Reshape)            (None, 40, 1)        0           mask[0][0]                       \n",
      "__________________________________________________________________________________________________\n",
      "filter (Multiply)               (None, 40, 3)        0           policy_3[0][0]                   \n",
      "                                                                 expend_dim[0][0]                 \n",
      "==================================================================================================\n",
      "Total params: 4,067\n",
      "Trainable params: 4,067\n",
      "Non-trainable params: 0\n",
      "__________________________________________________________________________________________________\n",
      "None\n"
     ]
    }
   ],
   "source": [
    "class GraphicQNetworkKeras():\n",
    "    def __init__(self, N,F, obs_space, action_space, num_outputs=3, model_config=None, name='graphic_policy_keras'):\n",
    "        self.obs_space = obs_space\n",
    "        self.action_space = action_space\n",
    "        self.num_outputs = num_outputs\n",
    "        self.name = name\n",
    "        self.base_model = self.build_model(N,F,num_outputs)\n",
    "\n",
    "    def build_model(self,N,F,num_outputs):\n",
    "        \n",
    "        X_in = Input(shape=(N,F), name='X_in')\n",
    "        x = Dense(32,activation='relu',name='encoder_1')(X_in)\n",
    "        x = Dense(32,activation='relu',name='encoder_2')(x)\n",
    "        \n",
    "        A_in = Input(shape=(N,N), name='A_in')\n",
    "        RL_indice = Input(shape=(N), name='mask')\n",
    "\n",
    "        ### Graphic convolution\n",
    "\n",
    "        x = GraphConv(32, activation='relu',name='gcn1')([x, A_in])\n",
    "#         x = GraphConv(32, activation='relu',name='gcn2')([x, A_in])\n",
    "\n",
    "        ### Policy network\n",
    "        x1 = Dense(32,activation='relu',name='policy_1')(x)\n",
    "        x2 = Dense(16,activation='relu',name='policy_2')(x1)\n",
    "\n",
    "        ###  Action and filter\n",
    "        x3 = Dense(num_outputs, activation='linear',name='policy_3')(x2)\n",
    "        mask = Reshape((N,1),name='expend_dim')(RL_indice)\n",
    "        qout = Multiply(name='filter')([x3,mask])\n",
    "\n",
    "        model = Model(inputs = [X_in,A_in,RL_indice], outputs=[qout])\n",
    "        print(model.summary())\n",
    "        return model\n",
    "rl_model = GraphicQNetworkKeras(N,F, obs_space, act_space)"
   ]
  },
  {
   "cell_type": "code",
   "execution_count": 8,
   "metadata": {},
   "outputs": [
    {
     "data": {
      "image/png": "[encoded data removed]",
      "text/plain": [
       "<IPython.core.display.Image object>"
      ]
     },
     "execution_count": 8,
     "metadata": {},
     "output_type": "execute_result"
    }
   ],
   "source": [
    "plot_model(rl_model.base_model)"
   ]
  },
  {
   "cell_type": "code",
   "execution_count": null,
   "metadata": {},
   "outputs": [],
   "source": [
    "processed"
   ]
  },
  {
   "cell_type": "code",
   "execution_count": null,
   "metadata": {},
   "outputs": [],
   "source": [
    "predicted = rl_model.base_model.predict(processed)"
   ]
  },
  {
   "cell_type": "code",
   "execution_count": null,
   "metadata": {},
   "outputs": [],
   "source": [
    "predicted.shape"
   ]
  },
  {
   "cell_type": "code",
   "execution_count": null,
   "metadata": {},
   "outputs": [],
   "source": [
    "predicted"
   ]
  },
  {
   "cell_type": "code",
   "execution_count": null,
   "metadata": {},
   "outputs": [],
   "source": [
    "action_batch"
   ]
  },
  {
   "cell_type": "code",
   "execution_count": null,
   "metadata": {},
   "outputs": [],
   "source": [
    "fake_true = np.ones([10,40,3])"
   ]
  },
  {
   "cell_type": "code",
   "execution_count": null,
   "metadata": {},
   "outputs": [],
   "source": [
    "predicted.shape"
   ]
  },
  {
   "cell_type": "code",
   "execution_count": null,
   "metadata": {},
   "outputs": [],
   "source": [
    "from tensorflow.keras.losses import Huber\n",
    "import tensorflow as tf\n",
    "import sys\n",
    "tf.__version__"
   ]
  },
  {
   "cell_type": "code",
   "execution_count": null,
   "metadata": {},
   "outputs": [],
   "source": []
  },
  {
   "cell_type": "code",
   "execution_count": null,
   "metadata": {},
   "outputs": [],
   "source": [
    "from rl.policy import Policy\n",
    "class greedy_q_policy(Policy):\n",
    "    def select_action(self,q_vals):\n",
    "        action = None\n",
    "        mask = np.any(q_vals, axis=1)\n",
    "        if mask.sum() > 0:\n",
    "            action = q_vals[mask,:].argmax(1)\n",
    "        return action\n",
    "\n",
    "class random_obs_policy(Policy):\n",
    "    def select_action(self,observation):\n",
    "        action = None\n",
    "        _,_,mask = observation\n",
    "        num_agent = mask.sum().astype(int)\n",
    "        if num_agent>0:\n",
    "            action = np.random.choice(np.arange(3),num_agent)\n",
    "        return action\n",
    "\n",
    "class eps_greedy_q_policy(Policy):\n",
    "    def __init__(self, eps=.1):\n",
    "        super(eps_greedy_q_policy, self).__init__()\n",
    "        self.eps = eps\n",
    "\n",
    "    def select_action(self,q_vals):\n",
    "        action = None\n",
    "        mask = np.any(q_vals, axis=1)\n",
    "        num_agent = mask.sum().astype(int)\n",
    "        if num_agent>0:\n",
    "            if np.random.uniform() < self.eps:  # choose random action\n",
    "                action = np.random.choice(np.arange(3),num_agent)\n",
    "            else:\n",
    "                action = q_vals[mask,:].argmax(1)\n",
    "        return action"
   ]
  },
  {
   "cell_type": "code",
   "execution_count": null,
   "metadata": {},
   "outputs": [],
   "source": []
  },
  {
   "cell_type": "code",
   "execution_count": null,
   "metadata": {},
   "outputs": [],
   "source": []
  },
  {
   "cell_type": "code",
   "execution_count": null,
   "metadata": {},
   "outputs": [],
   "source": []
  },
  {
   "cell_type": "markdown",
   "metadata": {},
   "source": [
    "## Assemble dqn"
   ]
  },
  {
   "cell_type": "code",
   "execution_count": null,
   "metadata": {},
   "outputs": [],
   "source": [
    "from agents.memory import CustomerSequentialMemory\n",
    "memory_buffer = CustomerSequentialMemory(limit=5000, window_length=1)\n",
    "\n",
    "\n",
    "for obs,a, r, temin in zip(training_data['state'],training_data['action'], training_data['reward'], training_data['done']):\n",
    "    if isinstance(a,np.ndarray):\n",
    "        memory_buffer.append(obs,a,r,temin)"
   ]
  },
  {
   "cell_type": "code",
   "execution_count": null,
   "metadata": {},
   "outputs": [],
   "source": [
    "test_policy = greedy_q_policy()\n",
    "start_policy = random_obs_policy()\n",
    "train_policy = eps_greedy_q_policy()"
   ]
  },
  {
   "cell_type": "code",
   "execution_count": null,
   "metadata": {},
   "outputs": [],
   "source": [
    "\n"
   ]
  },
  {
   "cell_type": "code",
   "execution_count": null,
   "metadata": {},
   "outputs": [],
   "source": [
    "from agents.dqn import DQNAgent\n",
    "multi_input_processor = Jiqian_MultiInputProcessor(3)\n",
    "my_dqn = DQNAgent(processor= multi_input_processor,\n",
    "                  model = rl_model.base_model, \n",
    "                  policy = train_policy,\n",
    "                  test_policy=test_policy,\n",
    "                  nb_total_agents = 40, \n",
    "                  nb_actions = 3, \n",
    "                  memory = memory_buffer,\n",
    "                  nb_steps_warmup=10)\n",
    "\n",
    "optimizer = tf.keras.optimizers.Adam(0.001)\n",
    "\n",
    "my_dqn.compile(optimizer)"
   ]
  },
  {
   "cell_type": "code",
   "execution_count": null,
   "metadata": {},
   "outputs": [],
   "source": [
    "import tensorflow as tf\n",
    "# import tf.keras.callbacks.CallbackList\n",
    "tf.__version__"
   ]
  },
  {
   "cell_type": "code",
   "execution_count": null,
   "metadata": {},
   "outputs": [],
   "source": []
  },
  {
   "cell_type": "code",
   "execution_count": null,
   "metadata": {},
   "outputs": [],
   "source": [
    "import matplotlib.pyplot as plt\n",
    "import numpy as np\n",
    "import json\n",
    "\n",
    "file = './logs/training_hist.txt'\n",
    "with open(file,'rb') as f:\n",
    "    data = json.load(f)\n",
    "\n",
    "losses = data['loss']\n",
    "rewards = data['episode_reward']\n",
    "\n",
    "plt.figure()\n",
    "plt.plot(np.arange(len(losses)),losses)\n",
    "plt.title('Loss vs episode')\n",
    "plt.savefig('./figures/loss.png',dpi=300)\n",
    "\n",
    "\n",
    "plt.figure()\n",
    "plt.plot(np.arange(len(rewards)),rewards)\n",
    "plt.title('rewards vs episode')\n",
    "plt.savefig('./figures/rewards.png',dpi=300)"
   ]
  },
  {
   "cell_type": "code",
   "execution_count": null,
   "metadata": {},
   "outputs": [],
   "source": []
  }
 ],
 "metadata": {
  "kernelspec": {
   "display_name": "flow2",
   "language": "python",
   "name": "flow2"
  },
  "language_info": {
   "codemirror_mode": {
    "name": "ipython",
    "version": 3
   },
   "file_extension": ".py",
   "mimetype": "text/x-python",
   "name": "python",
   "nbconvert_exporter": "python",
   "pygments_lexer": "ipython3",
   "version": "3.6.8"
  }
 },
 "nbformat": 4,
 "nbformat_minor": 2
}
